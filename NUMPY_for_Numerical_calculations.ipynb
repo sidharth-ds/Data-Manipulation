{
  "nbformat": 4,
  "nbformat_minor": 0,
  "metadata": {
    "colab": {
      "name": "numpy.ipynb",
      "provenance": [],
      "collapsed_sections": [
        "9Hrm1VtWgVOl",
        "FUJZESdjgaTy",
        "ibmyWHQ-g--P",
        "wPiDfe9ah_sg",
        "mCyIoVIuie6J",
        "SHwn9NuDjyYA"
      ],
      "authorship_tag": "ABX9TyMFQTtCc5bvWjK6ZgW4cXGo",
      "include_colab_link": true
    },
    "kernelspec": {
      "name": "python3",
      "display_name": "Python 3"
    },
    "language_info": {
      "name": "python"
    }
  },
  "cells": [
    {
      "cell_type": "markdown",
      "metadata": {
        "id": "view-in-github",
        "colab_type": "text"
      },
      "source": [
        "<a href=\"https://colab.research.google.com/github/sidharth-ds/python_Packages/blob/main/numpy.ipynb\" target=\"_parent\"><img src=\"https://colab.research.google.com/assets/colab-badge.svg\" alt=\"Open In Colab\"/></a>"
      ]
    },
    {
      "cell_type": "code",
      "execution_count": null,
      "metadata": {
        "id": "dLLAGf1v11kN"
      },
      "outputs": [],
      "source": [
        "import numpy as np"
      ]
    },
    {
      "cell_type": "markdown",
      "source": [
        "# numpy"
      ],
      "metadata": {
        "id": "9Hrm1VtWgVOl"
      }
    },
    {
      "cell_type": "code",
      "source": [
        "dir(np)"
      ],
      "metadata": {
        "id": "3FxcM3o_1-u3"
      },
      "execution_count": null,
      "outputs": []
    },
    {
      "cell_type": "code",
      "source": [
        "np. __version__"
      ],
      "metadata": {
        "colab": {
          "base_uri": "https://localhost:8080/",
          "height": 35
        },
        "id": "iOdWcUlM2GAE",
        "outputId": "451eb76d-e6be-4b94-9a60-44ae886d5e00"
      },
      "execution_count": null,
      "outputs": [
        {
          "output_type": "execute_result",
          "data": {
            "application/vnd.google.colaboratory.intrinsic+json": {
              "type": "string"
            },
            "text/plain": [
              "'1.19.5'"
            ]
          },
          "metadata": {},
          "execution_count": 3
        }
      ]
    },
    {
      "cell_type": "markdown",
      "source": [
        "# generating 1-D array"
      ],
      "metadata": {
        "id": "FUJZESdjgaTy"
      }
    },
    {
      "cell_type": "code",
      "source": [
        "x = np.zeros(10)\n",
        "x"
      ],
      "metadata": {
        "colab": {
          "base_uri": "https://localhost:8080/"
        },
        "id": "yDRE1MiE2M2S",
        "outputId": "6eee0fdb-3f1a-494f-db3d-0e8ca27e933c"
      },
      "execution_count": null,
      "outputs": [
        {
          "output_type": "execute_result",
          "data": {
            "text/plain": [
              "array([0., 0., 0., 0., 0., 0., 0., 0., 0., 0.])"
            ]
          },
          "metadata": {},
          "execution_count": 50
        }
      ]
    },
    {
      "cell_type": "code",
      "source": [
        "x.size"
      ],
      "metadata": {
        "colab": {
          "base_uri": "https://localhost:8080/"
        },
        "id": "RVyvy3YT2M5A",
        "outputId": "f832f043-1026-4eb3-d55d-6aff29a9c932"
      },
      "execution_count": null,
      "outputs": [
        {
          "output_type": "execute_result",
          "data": {
            "text/plain": [
              "10"
            ]
          },
          "metadata": {},
          "execution_count": 51
        }
      ]
    },
    {
      "cell_type": "code",
      "source": [
        "x.itemsize"
      ],
      "metadata": {
        "colab": {
          "base_uri": "https://localhost:8080/"
        },
        "id": "5ZfGSGSP2M7q",
        "outputId": "4d3277e2-b7f2-4067-b361-3bec56a3c8b8"
      },
      "execution_count": null,
      "outputs": [
        {
          "output_type": "execute_result",
          "data": {
            "text/plain": [
              "8"
            ]
          },
          "metadata": {},
          "execution_count": 52
        }
      ]
    },
    {
      "cell_type": "code",
      "source": [
        "x[1] = 20\n",
        "x[4] = 5\n",
        "x[5] = 9"
      ],
      "metadata": {
        "id": "ch6hRNv22M-J"
      },
      "execution_count": null,
      "outputs": []
    },
    {
      "cell_type": "code",
      "source": [
        "x"
      ],
      "metadata": {
        "colab": {
          "base_uri": "https://localhost:8080/"
        },
        "id": "WwHSd7CC2NBt",
        "outputId": "c6b94ab4-415f-41a8-ba85-45ffc1708d62"
      },
      "execution_count": null,
      "outputs": [
        {
          "output_type": "execute_result",
          "data": {
            "text/plain": [
              "array([ 0., 20.,  0.,  0.,  5.,  9.,  0.,  0.,  0.,  0.])"
            ]
          },
          "metadata": {},
          "execution_count": 55
        }
      ]
    },
    {
      "cell_type": "code",
      "source": [
        "y = np.nonzero(x)\n",
        "y"
      ],
      "metadata": {
        "colab": {
          "base_uri": "https://localhost:8080/"
        },
        "id": "ic7zn_Sl2jcy",
        "outputId": "4a17e202-66dc-4c32-d532-edcaa0f7f827"
      },
      "execution_count": null,
      "outputs": [
        {
          "output_type": "execute_result",
          "data": {
            "text/plain": [
              "(array([1, 4, 5]),)"
            ]
          },
          "metadata": {},
          "execution_count": 56
        }
      ]
    },
    {
      "cell_type": "code",
      "source": [
        "type(x[1]),type(x[2])"
      ],
      "metadata": {
        "colab": {
          "base_uri": "https://localhost:8080/"
        },
        "id": "zcu2KN5C2jft",
        "outputId": "18728277-1295-4690-eb1e-11279609f2bd"
      },
      "execution_count": null,
      "outputs": [
        {
          "output_type": "execute_result",
          "data": {
            "text/plain": [
              "(numpy.float64, numpy.float64)"
            ]
          },
          "metadata": {},
          "execution_count": 57
        }
      ]
    },
    {
      "cell_type": "markdown",
      "source": [
        "# generating 2-D array"
      ],
      "metadata": {
        "id": "ibmyWHQ-g--P"
      }
    },
    {
      "cell_type": "code",
      "source": [
        "i = np.zeros((10,4))\n",
        "i"
      ],
      "metadata": {
        "id": "q4qA6KFl2jjS",
        "colab": {
          "base_uri": "https://localhost:8080/"
        },
        "outputId": "fdfb82de-a68a-497b-8f6f-a19e84deed75"
      },
      "execution_count": null,
      "outputs": [
        {
          "output_type": "execute_result",
          "data": {
            "text/plain": [
              "array([[0., 0., 0., 0.],\n",
              "       [0., 0., 0., 0.],\n",
              "       [0., 0., 0., 0.],\n",
              "       [0., 0., 0., 0.],\n",
              "       [0., 0., 0., 0.],\n",
              "       [0., 0., 0., 0.],\n",
              "       [0., 0., 0., 0.],\n",
              "       [0., 0., 0., 0.],\n",
              "       [0., 0., 0., 0.],\n",
              "       [0., 0., 0., 0.]])"
            ]
          },
          "metadata": {},
          "execution_count": 58
        }
      ]
    },
    {
      "cell_type": "code",
      "source": [
        "i.size"
      ],
      "metadata": {
        "colab": {
          "base_uri": "https://localhost:8080/"
        },
        "id": "JmrcE1Nc3Tfn",
        "outputId": "07ce2c49-bdf0-4866-ff8a-6c6c420a8ec2"
      },
      "execution_count": null,
      "outputs": [
        {
          "output_type": "execute_result",
          "data": {
            "text/plain": [
              "40"
            ]
          },
          "metadata": {},
          "execution_count": 59
        }
      ]
    },
    {
      "cell_type": "code",
      "source": [
        "i.itemsize    # memory of each item"
      ],
      "metadata": {
        "colab": {
          "base_uri": "https://localhost:8080/"
        },
        "id": "tIRH37q-3Tiw",
        "outputId": "07edfef8-598e-4ee0-a55f-153082965164"
      },
      "execution_count": null,
      "outputs": [
        {
          "output_type": "execute_result",
          "data": {
            "text/plain": [
              "8"
            ]
          },
          "metadata": {},
          "execution_count": 60
        }
      ]
    },
    {
      "cell_type": "code",
      "source": [
        "i.size*i.itemsize  # total memory"
      ],
      "metadata": {
        "colab": {
          "base_uri": "https://localhost:8080/"
        },
        "id": "_o7AvFqM3TmP",
        "outputId": "07578f56-a01f-47e2-8947-3966d66c423f"
      },
      "execution_count": null,
      "outputs": [
        {
          "output_type": "execute_result",
          "data": {
            "text/plain": [
              "320"
            ]
          },
          "metadata": {},
          "execution_count": 61
        }
      ]
    },
    {
      "cell_type": "code",
      "source": [
        "i.shape"
      ],
      "metadata": {
        "colab": {
          "base_uri": "https://localhost:8080/"
        },
        "id": "fGJ_wa3f3uYU",
        "outputId": "1bbe614e-901a-4f71-c0d4-7213d2d6cc7e"
      },
      "execution_count": null,
      "outputs": [
        {
          "output_type": "execute_result",
          "data": {
            "text/plain": [
              "(10, 4)"
            ]
          },
          "metadata": {},
          "execution_count": 62
        }
      ]
    },
    {
      "cell_type": "code",
      "source": [
        "j = np.arange(10,45)\n",
        "j"
      ],
      "metadata": {
        "id": "KdnO1eKM3ubE",
        "colab": {
          "base_uri": "https://localhost:8080/"
        },
        "outputId": "42a6963c-7e30-481f-a3d7-2ca8d5ccf467"
      },
      "execution_count": null,
      "outputs": [
        {
          "output_type": "execute_result",
          "data": {
            "text/plain": [
              "array([10, 11, 12, 13, 14, 15, 16, 17, 18, 19, 20, 21, 22, 23, 24, 25, 26,\n",
              "       27, 28, 29, 30, 31, 32, 33, 34, 35, 36, 37, 38, 39, 40, 41, 42, 43,\n",
              "       44])"
            ]
          },
          "metadata": {},
          "execution_count": 63
        }
      ]
    },
    {
      "cell_type": "code",
      "source": [
        "k = np.arange(0,50)\n",
        "k"
      ],
      "metadata": {
        "colab": {
          "base_uri": "https://localhost:8080/"
        },
        "id": "f0cUf1pr3uhC",
        "outputId": "ab941c89-1c9e-4323-b437-d0b1c54bc45d"
      },
      "execution_count": null,
      "outputs": [
        {
          "output_type": "execute_result",
          "data": {
            "text/plain": [
              "array([ 0,  1,  2,  3,  4,  5,  6,  7,  8,  9, 10, 11, 12, 13, 14, 15, 16,\n",
              "       17, 18, 19, 20, 21, 22, 23, 24, 25, 26, 27, 28, 29, 30, 31, 32, 33,\n",
              "       34, 35, 36, 37, 38, 39, 40, 41, 42, 43, 44, 45, 46, 47, 48, 49])"
            ]
          },
          "metadata": {},
          "execution_count": 64
        }
      ]
    },
    {
      "cell_type": "markdown",
      "source": [
        "* generating a range in Arithmetic progression:\n",
        "\n",
        "---\n",
        "\n"
      ],
      "metadata": {
        "id": "n8dYNCh9hQAr"
      }
    },
    {
      "cell_type": "code",
      "source": [
        "l = np.arange(5,51,5)\n",
        "l"
      ],
      "metadata": {
        "colab": {
          "base_uri": "https://localhost:8080/"
        },
        "id": "bD89Q3ss38ej",
        "outputId": "9ca220df-8526-4a96-c0cd-188912977bf3"
      },
      "execution_count": null,
      "outputs": [
        {
          "output_type": "execute_result",
          "data": {
            "text/plain": [
              "array([ 5, 10, 15, 20, 25, 30, 35, 40, 45, 50])"
            ]
          },
          "metadata": {},
          "execution_count": 29
        }
      ]
    },
    {
      "cell_type": "code",
      "source": [
        "m = np.arange(0,12)\n",
        "m"
      ],
      "metadata": {
        "colab": {
          "base_uri": "https://localhost:8080/"
        },
        "id": "KfuPkRtA38hI",
        "outputId": "f9ca6a94-54e3-4091-a727-86843714e7b0"
      },
      "execution_count": null,
      "outputs": [
        {
          "output_type": "execute_result",
          "data": {
            "text/plain": [
              "array([ 0,  1,  2,  3,  4,  5,  6,  7,  8,  9, 10, 11])"
            ]
          },
          "metadata": {},
          "execution_count": 65
        }
      ]
    },
    {
      "cell_type": "markdown",
      "source": [
        "* Reshaping a matrix (m)\n",
        "\n",
        "---\n",
        "\n"
      ],
      "metadata": {
        "id": "oI8Mgelcn3Zs"
      }
    },
    {
      "cell_type": "code",
      "source": [
        "m.reshape(4,3)"
      ],
      "metadata": {
        "colab": {
          "base_uri": "https://localhost:8080/"
        },
        "id": "2-Ehk1hl38jl",
        "outputId": "2a4f3e46-8993-4a68-92a4-2cb5d0a41c0c"
      },
      "execution_count": null,
      "outputs": [
        {
          "output_type": "execute_result",
          "data": {
            "text/plain": [
              "array([[ 0,  1,  2],\n",
              "       [ 3,  4,  5],\n",
              "       [ 6,  7,  8],\n",
              "       [ 9, 10, 11]])"
            ]
          },
          "metadata": {},
          "execution_count": 67
        }
      ]
    },
    {
      "cell_type": "code",
      "source": [
        "m.reshape(2,6)"
      ],
      "metadata": {
        "colab": {
          "base_uri": "https://localhost:8080/"
        },
        "id": "ut7Gvqqc38mC",
        "outputId": "bf9a407e-caeb-4c54-ec76-8c613450684b"
      },
      "execution_count": null,
      "outputs": [
        {
          "output_type": "execute_result",
          "data": {
            "text/plain": [
              "array([[ 0,  1,  2,  3,  4,  5],\n",
              "       [ 6,  7,  8,  9, 10, 11]])"
            ]
          },
          "metadata": {},
          "execution_count": 68
        }
      ]
    },
    {
      "cell_type": "code",
      "source": [
        "m.reshape(6,2)"
      ],
      "metadata": {
        "colab": {
          "base_uri": "https://localhost:8080/"
        },
        "id": "sLspjaNY38op",
        "outputId": "3d8286c9-4577-49cf-f02e-c082a5c07995"
      },
      "execution_count": null,
      "outputs": [
        {
          "output_type": "execute_result",
          "data": {
            "text/plain": [
              "array([[ 0,  1],\n",
              "       [ 2,  3],\n",
              "       [ 4,  5],\n",
              "       [ 6,  7],\n",
              "       [ 8,  9],\n",
              "       [10, 11]])"
            ]
          },
          "metadata": {},
          "execution_count": 69
        }
      ]
    },
    {
      "cell_type": "markdown",
      "source": [
        "* to access the Index of nonzero values:\n",
        "\n",
        "---\n",
        "\n"
      ],
      "metadata": {
        "id": "0bxZg4bLhq1r"
      }
    },
    {
      "cell_type": "code",
      "source": [
        "n = np.nonzero([3,5,0,8,0,2,1,0,8,9])\n",
        "n"
      ],
      "metadata": {
        "colab": {
          "base_uri": "https://localhost:8080/"
        },
        "id": "DRd73H5-38sQ",
        "outputId": "f51dd837-0290-44ea-d562-844fa8c7d143"
      },
      "execution_count": null,
      "outputs": [
        {
          "output_type": "execute_result",
          "data": {
            "text/plain": [
              "(array([0, 1, 3, 5, 6, 8, 9]),)"
            ]
          },
          "metadata": {},
          "execution_count": 44
        }
      ]
    },
    {
      "cell_type": "markdown",
      "source": [
        "* Identity matrix\n",
        "\n",
        "---\n",
        "\n"
      ],
      "metadata": {
        "id": "4D654WMoh0AG"
      }
    },
    {
      "cell_type": "code",
      "source": [
        "o = np.eye(5)\n",
        "o"
      ],
      "metadata": {
        "colab": {
          "base_uri": "https://localhost:8080/"
        },
        "id": "Kme8JAEo5sHE",
        "outputId": "a0aee97d-21fe-44a6-a21b-718bd4358df2"
      },
      "execution_count": null,
      "outputs": [
        {
          "output_type": "execute_result",
          "data": {
            "text/plain": [
              "array([[1., 0., 0., 0., 0.],\n",
              "       [0., 1., 0., 0., 0.],\n",
              "       [0., 0., 1., 0., 0.],\n",
              "       [0., 0., 0., 1., 0.],\n",
              "       [0., 0., 0., 0., 1.]])"
            ]
          },
          "metadata": {},
          "execution_count": 47
        }
      ]
    },
    {
      "cell_type": "code",
      "source": [
        "o = np.eye(3)   \n",
        "o"
      ],
      "metadata": {
        "colab": {
          "base_uri": "https://localhost:8080/"
        },
        "id": "Ahe4lzLV5sJv",
        "outputId": "05a2e13c-1e02-4cc6-d1ff-d6d9655d2242"
      },
      "execution_count": null,
      "outputs": [
        {
          "output_type": "execute_result",
          "data": {
            "text/plain": [
              "array([[1., 0., 0.],\n",
              "       [0., 1., 0.],\n",
              "       [0., 0., 1.]])"
            ]
          },
          "metadata": {},
          "execution_count": 48
        }
      ]
    },
    {
      "cell_type": "markdown",
      "source": [
        "# to generate random values"
      ],
      "metadata": {
        "id": "wPiDfe9ah_sg"
      }
    },
    {
      "cell_type": "markdown",
      "source": [
        "* random()\n",
        "\n",
        "---\n",
        "\n"
      ],
      "metadata": {
        "id": "-qkUXqYWonzA"
      }
    },
    {
      "cell_type": "code",
      "source": [
        "p = np.random.random([3,4,2])    # 3-times, 4-rows, 2-column\n",
        "p                              # values is between zero to one (always)"
      ],
      "metadata": {
        "colab": {
          "base_uri": "https://localhost:8080/"
        },
        "id": "5UglsN6f5sMn",
        "outputId": "b60ff274-5816-4fbd-ca05-42e2d8c12e11"
      },
      "execution_count": null,
      "outputs": [
        {
          "output_type": "execute_result",
          "data": {
            "text/plain": [
              "array([[[0.52737253, 0.97662815],\n",
              "        [0.10451974, 0.67542188],\n",
              "        [0.01619279, 0.42206056],\n",
              "        [0.90114107, 0.89038408]],\n",
              "\n",
              "       [[0.72455867, 0.86185899],\n",
              "        [0.77358646, 0.90223842],\n",
              "        [0.2712606 , 0.00170417],\n",
              "        [0.81376686, 0.34692596]],\n",
              "\n",
              "       [[0.3978718 , 0.79526681],\n",
              "        [0.51867418, 0.21809166],\n",
              "        [0.3760607 , 0.00609443],\n",
              "        [0.34516   , 0.28034843]]])"
            ]
          },
          "metadata": {},
          "execution_count": 52
        }
      ]
    },
    {
      "cell_type": "code",
      "source": [
        "p = 10 * np.random.random([3,4,2])\n",
        "p"
      ],
      "metadata": {
        "colab": {
          "base_uri": "https://localhost:8080/"
        },
        "id": "Y8Dftkpy5sPf",
        "outputId": "1db04471-bfaa-4e57-9128-1b1dae81d0f3"
      },
      "execution_count": null,
      "outputs": [
        {
          "output_type": "execute_result",
          "data": {
            "text/plain": [
              "array([[[2.94492931, 8.11556391],\n",
              "        [7.72041768, 3.54508525],\n",
              "        [4.76522467, 8.02496371],\n",
              "        [5.01601686, 3.1920017 ]],\n",
              "\n",
              "       [[5.40429092, 2.06363329],\n",
              "        [6.72146715, 6.69597237],\n",
              "        [7.17287602, 4.82815711],\n",
              "        [8.51635926, 3.96520319]],\n",
              "\n",
              "       [[1.43853452, 1.60511953],\n",
              "        [8.84968204, 6.20277748],\n",
              "        [3.52492385, 1.28315635],\n",
              "        [0.77180208, 9.6000179 ]]])"
            ]
          },
          "metadata": {},
          "execution_count": 53
        }
      ]
    },
    {
      "cell_type": "code",
      "source": [
        "dir(np.random)"
      ],
      "metadata": {
        "id": "UNYNGEFC5sTF"
      },
      "execution_count": null,
      "outputs": []
    },
    {
      "cell_type": "markdown",
      "source": [
        "* randint()\n",
        "\n",
        "---\n",
        "\n"
      ],
      "metadata": {
        "id": "tZ8K5hT9otow"
      }
    },
    {
      "cell_type": "code",
      "source": [
        "q = np.random.randint(20, size=(10,5))    # within 20,  10-rows, 5-columns\n",
        "q"
      ],
      "metadata": {
        "colab": {
          "base_uri": "https://localhost:8080/"
        },
        "id": "YvZPRd5M6vOG",
        "outputId": "941c8963-245c-45ff-8768-e364bfc620f0"
      },
      "execution_count": null,
      "outputs": [
        {
          "output_type": "execute_result",
          "data": {
            "text/plain": [
              "array([[14,  2, 15,  8, 13],\n",
              "       [ 9,  2, 18,  2,  6],\n",
              "       [14, 16, 15,  1, 15],\n",
              "       [ 6,  0,  7,  2, 15],\n",
              "       [ 9,  5,  8, 13,  6],\n",
              "       [ 1,  9,  2, 17, 17],\n",
              "       [ 0, 15,  9,  5, 13],\n",
              "       [ 7, 11,  5,  0, 19],\n",
              "       [ 3,  0,  7,  7, 19],\n",
              "       [19, 13,  0, 12,  8]])"
            ]
          },
          "metadata": {},
          "execution_count": 55
        }
      ]
    },
    {
      "cell_type": "markdown",
      "source": [
        "* Statistics in matrix\n",
        "\n",
        "---\n",
        "\n"
      ],
      "metadata": {
        "id": "xF3DObmSiP52"
      }
    },
    {
      "cell_type": "code",
      "source": [
        "q.max(), q.min(), q.mean(), q.sum()"
      ],
      "metadata": {
        "colab": {
          "base_uri": "https://localhost:8080/"
        },
        "id": "1DmGl_9w6vQq",
        "outputId": "6358d851-1216-4b38-f61e-268e02e57ed1"
      },
      "execution_count": null,
      "outputs": [
        {
          "output_type": "execute_result",
          "data": {
            "text/plain": [
              "(19, 0, 8.78, 439)"
            ]
          },
          "metadata": {},
          "execution_count": 56
        }
      ]
    },
    {
      "cell_type": "markdown",
      "source": [
        "# changing the values"
      ],
      "metadata": {
        "id": "mCyIoVIuie6J"
      }
    },
    {
      "cell_type": "code",
      "source": [
        "e = np.ones((7,7))\n",
        "e"
      ],
      "metadata": {
        "id": "lbwxoRcK6vUD",
        "colab": {
          "base_uri": "https://localhost:8080/"
        },
        "outputId": "5dc4b2ad-475d-4a91-c49b-b6e522f85b1a"
      },
      "execution_count": null,
      "outputs": [
        {
          "output_type": "execute_result",
          "data": {
            "text/plain": [
              "array([[1., 1., 1., 1., 1., 1., 1.],\n",
              "       [1., 1., 1., 1., 1., 1., 1.],\n",
              "       [1., 1., 1., 1., 1., 1., 1.],\n",
              "       [1., 1., 1., 1., 1., 1., 1.],\n",
              "       [1., 1., 1., 1., 1., 1., 1.],\n",
              "       [1., 1., 1., 1., 1., 1., 1.],\n",
              "       [1., 1., 1., 1., 1., 1., 1.]])"
            ]
          },
          "metadata": {},
          "execution_count": 45
        }
      ]
    },
    {
      "cell_type": "markdown",
      "source": [
        "* 0th row , 0th column = 0\n",
        "\n",
        "---\n",
        "\n"
      ],
      "metadata": {
        "id": "VbB-qJLMildG"
      }
    },
    {
      "cell_type": "code",
      "source": [
        "e[0,0] = 0\n",
        "e"
      ],
      "metadata": {
        "colab": {
          "base_uri": "https://localhost:8080/"
        },
        "id": "F_-6qBzka6TW",
        "outputId": "3298124e-502e-4e7a-d00a-ab56072a7e5c"
      },
      "execution_count": null,
      "outputs": [
        {
          "output_type": "execute_result",
          "data": {
            "text/plain": [
              "array([[0., 1., 1., 1., 1., 1., 1.],\n",
              "       [1., 1., 1., 1., 1., 1., 1.],\n",
              "       [1., 1., 1., 1., 1., 1., 1.],\n",
              "       [1., 1., 1., 1., 1., 1., 1.],\n",
              "       [1., 1., 1., 1., 1., 1., 1.],\n",
              "       [1., 1., 1., 1., 1., 1., 1.],\n",
              "       [1., 1., 1., 1., 1., 1., 1.]])"
            ]
          },
          "metadata": {},
          "execution_count": 6
        }
      ]
    },
    {
      "cell_type": "markdown",
      "source": [
        "* entire rows , 0th column = 0\n",
        "\n",
        "---\n",
        "\n",
        "\n",
        "\n"
      ],
      "metadata": {
        "id": "GkEnhV1OitKd"
      }
    },
    {
      "cell_type": "code",
      "source": [
        "e[:,0] = 0\n",
        "e"
      ],
      "metadata": {
        "colab": {
          "base_uri": "https://localhost:8080/"
        },
        "id": "0splhH_Ha6WA",
        "outputId": "df861852-e60f-4526-a138-15ae79083e97"
      },
      "execution_count": null,
      "outputs": [
        {
          "output_type": "execute_result",
          "data": {
            "text/plain": [
              "array([[0., 1., 1., 1., 1., 1., 1.],\n",
              "       [0., 1., 1., 1., 1., 1., 1.],\n",
              "       [0., 1., 1., 1., 1., 1., 1.],\n",
              "       [0., 1., 1., 1., 1., 1., 1.],\n",
              "       [0., 1., 1., 1., 1., 1., 1.],\n",
              "       [0., 1., 1., 1., 1., 1., 1.],\n",
              "       [0., 1., 1., 1., 1., 1., 1.]])"
            ]
          },
          "metadata": {},
          "execution_count": 46
        }
      ]
    },
    {
      "cell_type": "markdown",
      "source": [
        "* entire rows , 6th column = 0\n",
        "\n",
        "---\n",
        "\n",
        "\n"
      ],
      "metadata": {
        "id": "QziCpo-qjQC1"
      }
    },
    {
      "cell_type": "code",
      "source": [
        "e[:,6] = 0\n",
        "e"
      ],
      "metadata": {
        "colab": {
          "base_uri": "https://localhost:8080/"
        },
        "id": "nOGImQmua6Yj",
        "outputId": "6b79680f-63f6-4920-fe0e-fe7d1ee9091d"
      },
      "execution_count": null,
      "outputs": [
        {
          "output_type": "execute_result",
          "data": {
            "text/plain": [
              "array([[0., 1., 1., 1., 1., 1., 0.],\n",
              "       [0., 1., 1., 1., 1., 1., 0.],\n",
              "       [0., 1., 1., 1., 1., 1., 0.],\n",
              "       [0., 1., 1., 1., 1., 1., 0.],\n",
              "       [0., 1., 1., 1., 1., 1., 0.],\n",
              "       [0., 1., 1., 1., 1., 1., 0.],\n",
              "       [0., 1., 1., 1., 1., 1., 0.]])"
            ]
          },
          "metadata": {},
          "execution_count": 47
        }
      ]
    },
    {
      "cell_type": "markdown",
      "source": [
        "* 0th row , entire column = 0\n",
        "\n",
        "---\n",
        "\n",
        "\n"
      ],
      "metadata": {
        "id": "UJ2FXKeKjS0k"
      }
    },
    {
      "cell_type": "code",
      "source": [
        "e[0,:] = 0\n",
        "e"
      ],
      "metadata": {
        "colab": {
          "base_uri": "https://localhost:8080/"
        },
        "id": "TnVrXSRYa6cD",
        "outputId": "c688a922-67d4-43e8-848b-b7be340ae717"
      },
      "execution_count": null,
      "outputs": [
        {
          "output_type": "execute_result",
          "data": {
            "text/plain": [
              "array([[0., 0., 0., 0., 0., 0., 0.],\n",
              "       [0., 1., 1., 1., 1., 1., 0.],\n",
              "       [0., 1., 1., 1., 1., 1., 0.],\n",
              "       [0., 1., 1., 1., 1., 1., 0.],\n",
              "       [0., 1., 1., 1., 1., 1., 0.],\n",
              "       [0., 1., 1., 1., 1., 1., 0.],\n",
              "       [0., 1., 1., 1., 1., 1., 0.]])"
            ]
          },
          "metadata": {},
          "execution_count": 48
        }
      ]
    },
    {
      "cell_type": "markdown",
      "source": [
        "* 6th row , entire column = 0\n",
        "\n",
        "---\n",
        "\n",
        "\n"
      ],
      "metadata": {
        "id": "WvN63ikyjaOB"
      }
    },
    {
      "cell_type": "code",
      "source": [
        "e[6,:] = 0\n",
        "e"
      ],
      "metadata": {
        "colab": {
          "base_uri": "https://localhost:8080/"
        },
        "id": "zxllWVDNbpL5",
        "outputId": "b7344ced-496f-4701-8b40-c2251e2e51c6"
      },
      "execution_count": null,
      "outputs": [
        {
          "output_type": "execute_result",
          "data": {
            "text/plain": [
              "array([[0., 0., 0., 0., 0., 0., 0.],\n",
              "       [0., 1., 1., 1., 1., 1., 0.],\n",
              "       [0., 1., 1., 1., 1., 1., 0.],\n",
              "       [0., 1., 1., 1., 1., 1., 0.],\n",
              "       [0., 1., 1., 1., 1., 1., 0.],\n",
              "       [0., 1., 1., 1., 1., 1., 0.],\n",
              "       [0., 0., 0., 0., 0., 0., 0.]])"
            ]
          },
          "metadata": {},
          "execution_count": 49
        }
      ]
    },
    {
      "cell_type": "code",
      "source": [
        "f = np.ones((10,10))\n",
        "f"
      ],
      "metadata": {
        "colab": {
          "base_uri": "https://localhost:8080/"
        },
        "id": "a9GoPtYubpXu",
        "outputId": "1b91491b-003f-4729-dd76-f508e235f1d5"
      },
      "execution_count": null,
      "outputs": [
        {
          "output_type": "execute_result",
          "data": {
            "text/plain": [
              "array([[1., 1., 1., 1., 1., 1., 1., 1., 1., 1.],\n",
              "       [1., 1., 1., 1., 1., 1., 1., 1., 1., 1.],\n",
              "       [1., 1., 1., 1., 1., 1., 1., 1., 1., 1.],\n",
              "       [1., 1., 1., 1., 1., 1., 1., 1., 1., 1.],\n",
              "       [1., 1., 1., 1., 1., 1., 1., 1., 1., 1.],\n",
              "       [1., 1., 1., 1., 1., 1., 1., 1., 1., 1.],\n",
              "       [1., 1., 1., 1., 1., 1., 1., 1., 1., 1.],\n",
              "       [1., 1., 1., 1., 1., 1., 1., 1., 1., 1.],\n",
              "       [1., 1., 1., 1., 1., 1., 1., 1., 1., 1.],\n",
              "       [1., 1., 1., 1., 1., 1., 1., 1., 1., 1.]])"
            ]
          },
          "metadata": {},
          "execution_count": 15
        }
      ]
    },
    {
      "cell_type": "markdown",
      "source": [
        "* 2nd row to last-before row , 2nd column to last-before column = 0:\n",
        "\n",
        "---\n",
        "\n"
      ],
      "metadata": {
        "id": "1d7XWgaOjfJ6"
      }
    },
    {
      "cell_type": "code",
      "source": [
        "f[1:-1,1:-1] = 0\n",
        "f"
      ],
      "metadata": {
        "colab": {
          "base_uri": "https://localhost:8080/"
        },
        "id": "1oZ59nldbpc-",
        "outputId": "d3882604-a172-4888-da97-40b9cd6f62b5"
      },
      "execution_count": null,
      "outputs": [
        {
          "output_type": "execute_result",
          "data": {
            "text/plain": [
              "array([[1., 1., 1., 1., 1., 1., 1., 1., 1., 1.],\n",
              "       [1., 0., 0., 0., 0., 0., 0., 0., 0., 1.],\n",
              "       [1., 0., 0., 0., 0., 0., 0., 0., 0., 1.],\n",
              "       [1., 0., 0., 0., 0., 0., 0., 0., 0., 1.],\n",
              "       [1., 0., 0., 0., 0., 0., 0., 0., 0., 1.],\n",
              "       [1., 0., 0., 0., 0., 0., 0., 0., 0., 1.],\n",
              "       [1., 0., 0., 0., 0., 0., 0., 0., 0., 1.],\n",
              "       [1., 0., 0., 0., 0., 0., 0., 0., 0., 1.],\n",
              "       [1., 0., 0., 0., 0., 0., 0., 0., 0., 1.],\n",
              "       [1., 1., 1., 1., 1., 1., 1., 1., 1., 1.]])"
            ]
          },
          "metadata": {},
          "execution_count": 16
        }
      ]
    },
    {
      "cell_type": "markdown",
      "source": [
        "# PADDING : used for image processing in deep learing"
      ],
      "metadata": {
        "id": "SHwn9NuDjyYA"
      }
    },
    {
      "cell_type": "markdown",
      "source": [
        "* Constant value is padded:\n",
        "\n",
        "---\n",
        "\n"
      ],
      "metadata": {
        "id": "2BgPZHJ6kG3i"
      }
    },
    {
      "cell_type": "code",
      "source": [
        "g = np.arange(25).reshape(5,5)\n",
        "h = np.pad(g,pad_width=1,mode='constant',constant_values=100)\n",
        "h"
      ],
      "metadata": {
        "colab": {
          "base_uri": "https://localhost:8080/"
        },
        "id": "dUvsgKSfbpfM",
        "outputId": "817119ce-b263-4f05-c709-25d6ec0325d8"
      },
      "execution_count": null,
      "outputs": [
        {
          "output_type": "execute_result",
          "data": {
            "text/plain": [
              "array([[100, 100, 100, 100, 100, 100, 100],\n",
              "       [100,   0,   1,   2,   3,   4, 100],\n",
              "       [100,   5,   6,   7,   8,   9, 100],\n",
              "       [100,  10,  11,  12,  13,  14, 100],\n",
              "       [100,  15,  16,  17,  18,  19, 100],\n",
              "       [100,  20,  21,  22,  23,  24, 100],\n",
              "       [100, 100, 100, 100, 100, 100, 100]])"
            ]
          },
          "metadata": {},
          "execution_count": 23
        }
      ]
    },
    {
      "cell_type": "code",
      "source": [
        "g = np.arange(1,26).reshape(5,5)\n",
        "h = np.pad(g,pad_width=2,mode='constant',constant_values=100)\n",
        "h"
      ],
      "metadata": {
        "colab": {
          "base_uri": "https://localhost:8080/"
        },
        "id": "Eqfn9p81bpit",
        "outputId": "f3c405f9-2a41-42e6-d8a9-af89b757b162"
      },
      "execution_count": null,
      "outputs": [
        {
          "output_type": "execute_result",
          "data": {
            "text/plain": [
              "array([[100, 100, 100, 100, 100, 100, 100, 100, 100],\n",
              "       [100, 100, 100, 100, 100, 100, 100, 100, 100],\n",
              "       [100, 100,   1,   2,   3,   4,   5, 100, 100],\n",
              "       [100, 100,   6,   7,   8,   9,  10, 100, 100],\n",
              "       [100, 100,  11,  12,  13,  14,  15, 100, 100],\n",
              "       [100, 100,  16,  17,  18,  19,  20, 100, 100],\n",
              "       [100, 100,  21,  22,  23,  24,  25, 100, 100],\n",
              "       [100, 100, 100, 100, 100, 100, 100, 100, 100],\n",
              "       [100, 100, 100, 100, 100, 100, 100, 100, 100]])"
            ]
          },
          "metadata": {},
          "execution_count": 28
        }
      ]
    },
    {
      "cell_type": "markdown",
      "source": [
        "* edge rows, edge columns are padded:\n",
        "\n",
        "\n",
        "---\n"
      ],
      "metadata": {
        "id": "LJ_W7Mw6kNjx"
      }
    },
    {
      "cell_type": "code",
      "source": [
        "g = np.arange(1,26).reshape(5,5)\n",
        "h = np.pad(g,pad_width=1,mode='edge')\n",
        "h"
      ],
      "metadata": {
        "colab": {
          "base_uri": "https://localhost:8080/"
        },
        "id": "3XEQgb87dss0",
        "outputId": "f3563481-17e0-41b5-8faa-542bcd4c5baa"
      },
      "execution_count": null,
      "outputs": [
        {
          "output_type": "execute_result",
          "data": {
            "text/plain": [
              "array([[ 1,  1,  2,  3,  4,  5,  5],\n",
              "       [ 1,  1,  2,  3,  4,  5,  5],\n",
              "       [ 6,  6,  7,  8,  9, 10, 10],\n",
              "       [11, 11, 12, 13, 14, 15, 15],\n",
              "       [16, 16, 17, 18, 19, 20, 20],\n",
              "       [21, 21, 22, 23, 24, 25, 25],\n",
              "       [21, 21, 22, 23, 24, 25, 25]])"
            ]
          },
          "metadata": {},
          "execution_count": 29
        }
      ]
    },
    {
      "cell_type": "code",
      "source": [
        "g = np.arange(1,26).reshape(5,5)\n",
        "h = np.pad(g,pad_width=2,mode='edge')\n",
        "h"
      ],
      "metadata": {
        "colab": {
          "base_uri": "https://localhost:8080/"
        },
        "id": "_ZLqy8Ejdsvd",
        "outputId": "68a43b11-2d5e-425b-da91-e5a614e8933e"
      },
      "execution_count": null,
      "outputs": [
        {
          "output_type": "execute_result",
          "data": {
            "text/plain": [
              "array([[ 1,  1,  1,  2,  3,  4,  5,  5,  5],\n",
              "       [ 1,  1,  1,  2,  3,  4,  5,  5,  5],\n",
              "       [ 1,  1,  1,  2,  3,  4,  5,  5,  5],\n",
              "       [ 6,  6,  6,  7,  8,  9, 10, 10, 10],\n",
              "       [11, 11, 11, 12, 13, 14, 15, 15, 15],\n",
              "       [16, 16, 16, 17, 18, 19, 20, 20, 20],\n",
              "       [21, 21, 21, 22, 23, 24, 25, 25, 25],\n",
              "       [21, 21, 21, 22, 23, 24, 25, 25, 25],\n",
              "       [21, 21, 21, 22, 23, 24, 25, 25, 25]])"
            ]
          },
          "metadata": {},
          "execution_count": 30
        }
      ]
    },
    {
      "cell_type": "markdown",
      "source": [
        "* Maximum value of the row/column is padded:\n",
        "\n",
        "---\n",
        "\n"
      ],
      "metadata": {
        "id": "nrhzht7GkyI0"
      }
    },
    {
      "cell_type": "code",
      "source": [
        "g = np.arange(1,26).reshape(5,5)\n",
        "h = np.pad(g,pad_width=1,mode='maximum')\n",
        "h"
      ],
      "metadata": {
        "colab": {
          "base_uri": "https://localhost:8080/"
        },
        "id": "tfj5gLkFdsyS",
        "outputId": "e3b53ad8-2910-486e-fee4-f4dacd25a9df"
      },
      "execution_count": null,
      "outputs": [
        {
          "output_type": "execute_result",
          "data": {
            "text/plain": [
              "array([[25, 21, 22, 23, 24, 25, 25],\n",
              "       [ 5,  1,  2,  3,  4,  5,  5],\n",
              "       [10,  6,  7,  8,  9, 10, 10],\n",
              "       [15, 11, 12, 13, 14, 15, 15],\n",
              "       [20, 16, 17, 18, 19, 20, 20],\n",
              "       [25, 21, 22, 23, 24, 25, 25],\n",
              "       [25, 21, 22, 23, 24, 25, 25]])"
            ]
          },
          "metadata": {},
          "execution_count": 32
        }
      ]
    },
    {
      "cell_type": "markdown",
      "source": [
        "* Minimum value of the row/column is padded:\n",
        "\n",
        "---\n"
      ],
      "metadata": {
        "id": "jzBqQ-AylWhZ"
      }
    },
    {
      "cell_type": "code",
      "source": [
        "g = np.arange(1,26).reshape(5,5)\n",
        "h = np.pad(g,pad_width=1,mode='minimum')\n",
        "h"
      ],
      "metadata": {
        "colab": {
          "base_uri": "https://localhost:8080/"
        },
        "id": "VvrIEafrds0b",
        "outputId": "4b3a6f57-deba-41b9-9654-b43ac8b65049"
      },
      "execution_count": null,
      "outputs": [
        {
          "output_type": "execute_result",
          "data": {
            "text/plain": [
              "array([[ 1,  1,  2,  3,  4,  5,  1],\n",
              "       [ 1,  1,  2,  3,  4,  5,  1],\n",
              "       [ 6,  6,  7,  8,  9, 10,  6],\n",
              "       [11, 11, 12, 13, 14, 15, 11],\n",
              "       [16, 16, 17, 18, 19, 20, 16],\n",
              "       [21, 21, 22, 23, 24, 25, 21],\n",
              "       [ 1,  1,  2,  3,  4,  5,  1]])"
            ]
          },
          "metadata": {},
          "execution_count": 33
        }
      ]
    },
    {
      "cell_type": "markdown",
      "source": [
        "* Mean value of the row/column is padded:\n",
        "\n",
        "---\n"
      ],
      "metadata": {
        "id": "nBDtTZnVlZC6"
      }
    },
    {
      "cell_type": "code",
      "source": [
        "g = np.arange(1,26).reshape(5,5)\n",
        "h = np.pad(g,pad_width=1,mode='mean')\n",
        "h"
      ],
      "metadata": {
        "colab": {
          "base_uri": "https://localhost:8080/"
        },
        "id": "bzjacZjpds35",
        "outputId": "ea6a07ec-d4ef-41d8-9f27-3b02fdc81b67"
      },
      "execution_count": null,
      "outputs": [
        {
          "output_type": "execute_result",
          "data": {
            "text/plain": [
              "array([[13, 11, 12, 13, 14, 15, 13],\n",
              "       [ 3,  1,  2,  3,  4,  5,  3],\n",
              "       [ 8,  6,  7,  8,  9, 10,  8],\n",
              "       [13, 11, 12, 13, 14, 15, 13],\n",
              "       [18, 16, 17, 18, 19, 20, 18],\n",
              "       [23, 21, 22, 23, 24, 25, 23],\n",
              "       [13, 11, 12, 13, 14, 15, 13]])"
            ]
          },
          "metadata": {},
          "execution_count": 34
        }
      ]
    },
    {
      "cell_type": "markdown",
      "source": [
        "* Median value of the row/column is padded:\n",
        "\n",
        "---\n"
      ],
      "metadata": {
        "id": "Pqu1FI4jljL-"
      }
    },
    {
      "cell_type": "code",
      "source": [
        "g = np.arange(1,26).reshape(5,5)\n",
        "h = np.pad(g,pad_width=1,mode='median')\n",
        "h"
      ],
      "metadata": {
        "colab": {
          "base_uri": "https://localhost:8080/"
        },
        "id": "M5bG5ZOse0oV",
        "outputId": "8454fc03-4e32-47dc-ffa7-b7d43ba78b31"
      },
      "execution_count": null,
      "outputs": [
        {
          "output_type": "execute_result",
          "data": {
            "text/plain": [
              "array([[13, 11, 12, 13, 14, 15, 13],\n",
              "       [ 3,  1,  2,  3,  4,  5,  3],\n",
              "       [ 8,  6,  7,  8,  9, 10,  8],\n",
              "       [13, 11, 12, 13, 14, 15, 13],\n",
              "       [18, 16, 17, 18, 19, 20, 18],\n",
              "       [23, 21, 22, 23, 24, 25, 23],\n",
              "       [13, 11, 12, 13, 14, 15, 13]])"
            ]
          },
          "metadata": {},
          "execution_count": 35
        }
      ]
    },
    {
      "cell_type": "markdown",
      "source": [
        "* Reflection based on 0th row and 0th column (excluding 0th row and 0th column)\n",
        "\n",
        "---\n",
        "\n"
      ],
      "metadata": {
        "id": "_OsAgdu-ltd4"
      }
    },
    {
      "cell_type": "code",
      "source": [
        "g = np.arange(1,26).reshape(5,5)\n",
        "h = np.pad(g,pad_width=1,mode='reflect')\n",
        "h"
      ],
      "metadata": {
        "colab": {
          "base_uri": "https://localhost:8080/"
        },
        "id": "s63BTWa2e0rG",
        "outputId": "fd4d978b-db44-4b34-ff35-3d85cfb3e081"
      },
      "execution_count": null,
      "outputs": [
        {
          "output_type": "execute_result",
          "data": {
            "text/plain": [
              "array([[ 7,  6,  7,  8,  9, 10,  9],\n",
              "       [ 2,  1,  2,  3,  4,  5,  4],\n",
              "       [ 7,  6,  7,  8,  9, 10,  9],\n",
              "       [12, 11, 12, 13, 14, 15, 14],\n",
              "       [17, 16, 17, 18, 19, 20, 19],\n",
              "       [22, 21, 22, 23, 24, 25, 24],\n",
              "       [17, 16, 17, 18, 19, 20, 19]])"
            ]
          },
          "metadata": {},
          "execution_count": 36
        }
      ]
    },
    {
      "cell_type": "code",
      "source": [
        "g = np.arange(1,26).reshape(5,5)\n",
        "h = np.pad(g,pad_width=5,mode='reflect')\n",
        "h"
      ],
      "metadata": {
        "colab": {
          "base_uri": "https://localhost:8080/"
        },
        "id": "DvC20ADqe0tZ",
        "outputId": "38f6ccb3-5c0b-473d-bca2-d8a6aeb4da2d"
      },
      "execution_count": null,
      "outputs": [
        {
          "output_type": "execute_result",
          "data": {
            "text/plain": [
              "array([[19, 20, 19, 18, 17, 16, 17, 18, 19, 20, 19, 18, 17, 16, 17],\n",
              "       [24, 25, 24, 23, 22, 21, 22, 23, 24, 25, 24, 23, 22, 21, 22],\n",
              "       [19, 20, 19, 18, 17, 16, 17, 18, 19, 20, 19, 18, 17, 16, 17],\n",
              "       [14, 15, 14, 13, 12, 11, 12, 13, 14, 15, 14, 13, 12, 11, 12],\n",
              "       [ 9, 10,  9,  8,  7,  6,  7,  8,  9, 10,  9,  8,  7,  6,  7],\n",
              "       [ 4,  5,  4,  3,  2,  1,  2,  3,  4,  5,  4,  3,  2,  1,  2],\n",
              "       [ 9, 10,  9,  8,  7,  6,  7,  8,  9, 10,  9,  8,  7,  6,  7],\n",
              "       [14, 15, 14, 13, 12, 11, 12, 13, 14, 15, 14, 13, 12, 11, 12],\n",
              "       [19, 20, 19, 18, 17, 16, 17, 18, 19, 20, 19, 18, 17, 16, 17],\n",
              "       [24, 25, 24, 23, 22, 21, 22, 23, 24, 25, 24, 23, 22, 21, 22],\n",
              "       [19, 20, 19, 18, 17, 16, 17, 18, 19, 20, 19, 18, 17, 16, 17],\n",
              "       [14, 15, 14, 13, 12, 11, 12, 13, 14, 15, 14, 13, 12, 11, 12],\n",
              "       [ 9, 10,  9,  8,  7,  6,  7,  8,  9, 10,  9,  8,  7,  6,  7],\n",
              "       [ 4,  5,  4,  3,  2,  1,  2,  3,  4,  5,  4,  3,  2,  1,  2],\n",
              "       [ 9, 10,  9,  8,  7,  6,  7,  8,  9, 10,  9,  8,  7,  6,  7]])"
            ]
          },
          "metadata": {},
          "execution_count": 38
        }
      ]
    },
    {
      "cell_type": "markdown",
      "source": [
        "* Reflection based on 0th row and 0th column (including 0th row and 0th column)\n",
        "\n",
        "---"
      ],
      "metadata": {
        "id": "idNyIdWLmhdQ"
      }
    },
    {
      "cell_type": "code",
      "source": [
        "g = np.arange(1,26).reshape(5,5)\n",
        "h = np.pad(g,pad_width=1,mode='symmetric')\n",
        "h"
      ],
      "metadata": {
        "colab": {
          "base_uri": "https://localhost:8080/"
        },
        "id": "BpkjdEGDe0vv",
        "outputId": "f0f20eb3-8156-4fef-b54a-459eacde8a42"
      },
      "execution_count": null,
      "outputs": [
        {
          "output_type": "execute_result",
          "data": {
            "text/plain": [
              "array([[ 1,  1,  2,  3,  4,  5,  5],\n",
              "       [ 1,  1,  2,  3,  4,  5,  5],\n",
              "       [ 6,  6,  7,  8,  9, 10, 10],\n",
              "       [11, 11, 12, 13, 14, 15, 15],\n",
              "       [16, 16, 17, 18, 19, 20, 20],\n",
              "       [21, 21, 22, 23, 24, 25, 25],\n",
              "       [21, 21, 22, 23, 24, 25, 25]])"
            ]
          },
          "metadata": {},
          "execution_count": 39
        }
      ]
    },
    {
      "cell_type": "code",
      "source": [
        "g = np.arange(1,26).reshape(5,5)\n",
        "h = np.pad(g,pad_width=5,mode='symmetric')\n",
        "h"
      ],
      "metadata": {
        "colab": {
          "base_uri": "https://localhost:8080/"
        },
        "id": "NUQZANale0zH",
        "outputId": "44031617-d90e-4215-d31d-a656471677c0"
      },
      "execution_count": null,
      "outputs": [
        {
          "output_type": "execute_result",
          "data": {
            "text/plain": [
              "array([[25, 24, 23, 22, 21, 21, 22, 23, 24, 25, 25, 24, 23, 22, 21],\n",
              "       [20, 19, 18, 17, 16, 16, 17, 18, 19, 20, 20, 19, 18, 17, 16],\n",
              "       [15, 14, 13, 12, 11, 11, 12, 13, 14, 15, 15, 14, 13, 12, 11],\n",
              "       [10,  9,  8,  7,  6,  6,  7,  8,  9, 10, 10,  9,  8,  7,  6],\n",
              "       [ 5,  4,  3,  2,  1,  1,  2,  3,  4,  5,  5,  4,  3,  2,  1],\n",
              "       [ 5,  4,  3,  2,  1,  1,  2,  3,  4,  5,  5,  4,  3,  2,  1],\n",
              "       [10,  9,  8,  7,  6,  6,  7,  8,  9, 10, 10,  9,  8,  7,  6],\n",
              "       [15, 14, 13, 12, 11, 11, 12, 13, 14, 15, 15, 14, 13, 12, 11],\n",
              "       [20, 19, 18, 17, 16, 16, 17, 18, 19, 20, 20, 19, 18, 17, 16],\n",
              "       [25, 24, 23, 22, 21, 21, 22, 23, 24, 25, 25, 24, 23, 22, 21],\n",
              "       [25, 24, 23, 22, 21, 21, 22, 23, 24, 25, 25, 24, 23, 22, 21],\n",
              "       [20, 19, 18, 17, 16, 16, 17, 18, 19, 20, 20, 19, 18, 17, 16],\n",
              "       [15, 14, 13, 12, 11, 11, 12, 13, 14, 15, 15, 14, 13, 12, 11],\n",
              "       [10,  9,  8,  7,  6,  6,  7,  8,  9, 10, 10,  9,  8,  7,  6],\n",
              "       [ 5,  4,  3,  2,  1,  1,  2,  3,  4,  5,  5,  4,  3,  2,  1]])"
            ]
          },
          "metadata": {},
          "execution_count": 40
        }
      ]
    },
    {
      "cell_type": "markdown",
      "source": [
        "* Reflection based on 0th row and 0th column (from the last row and last column) (mirror image)\n",
        "\n",
        "---"
      ],
      "metadata": {
        "id": "IDYFwrspmoM1"
      }
    },
    {
      "cell_type": "code",
      "source": [
        "g = np.arange(1,26).reshape(5,5)\n",
        "h = np.pad(g,pad_width=1,mode='wrap')\n",
        "h"
      ],
      "metadata": {
        "colab": {
          "base_uri": "https://localhost:8080/"
        },
        "id": "dYHHwndMgAos",
        "outputId": "b64b7297-b5dd-410a-899d-cf056f51afeb"
      },
      "execution_count": null,
      "outputs": [
        {
          "output_type": "execute_result",
          "data": {
            "text/plain": [
              "array([[25, 21, 22, 23, 24, 25, 21],\n",
              "       [ 5,  1,  2,  3,  4,  5,  1],\n",
              "       [10,  6,  7,  8,  9, 10,  6],\n",
              "       [15, 11, 12, 13, 14, 15, 11],\n",
              "       [20, 16, 17, 18, 19, 20, 16],\n",
              "       [25, 21, 22, 23, 24, 25, 21],\n",
              "       [ 5,  1,  2,  3,  4,  5,  1]])"
            ]
          },
          "metadata": {},
          "execution_count": 41
        }
      ]
    },
    {
      "cell_type": "code",
      "source": [
        "g = np.arange(1,26).reshape(5,5)\n",
        "h = np.pad(g,pad_width=5,mode='wrap')\n",
        "h"
      ],
      "metadata": {
        "colab": {
          "base_uri": "https://localhost:8080/"
        },
        "id": "xXR-XPV1gArf",
        "outputId": "c6852e57-c36c-4aab-86f7-e8615e91c210"
      },
      "execution_count": null,
      "outputs": [
        {
          "output_type": "execute_result",
          "data": {
            "text/plain": [
              "array([[ 1,  2,  3,  4,  5,  1,  2,  3,  4,  5,  1,  2,  3,  4,  5],\n",
              "       [ 6,  7,  8,  9, 10,  6,  7,  8,  9, 10,  6,  7,  8,  9, 10],\n",
              "       [11, 12, 13, 14, 15, 11, 12, 13, 14, 15, 11, 12, 13, 14, 15],\n",
              "       [16, 17, 18, 19, 20, 16, 17, 18, 19, 20, 16, 17, 18, 19, 20],\n",
              "       [21, 22, 23, 24, 25, 21, 22, 23, 24, 25, 21, 22, 23, 24, 25],\n",
              "       [ 1,  2,  3,  4,  5,  1,  2,  3,  4,  5,  1,  2,  3,  4,  5],\n",
              "       [ 6,  7,  8,  9, 10,  6,  7,  8,  9, 10,  6,  7,  8,  9, 10],\n",
              "       [11, 12, 13, 14, 15, 11, 12, 13, 14, 15, 11, 12, 13, 14, 15],\n",
              "       [16, 17, 18, 19, 20, 16, 17, 18, 19, 20, 16, 17, 18, 19, 20],\n",
              "       [21, 22, 23, 24, 25, 21, 22, 23, 24, 25, 21, 22, 23, 24, 25],\n",
              "       [ 1,  2,  3,  4,  5,  1,  2,  3,  4,  5,  1,  2,  3,  4,  5],\n",
              "       [ 6,  7,  8,  9, 10,  6,  7,  8,  9, 10,  6,  7,  8,  9, 10],\n",
              "       [11, 12, 13, 14, 15, 11, 12, 13, 14, 15, 11, 12, 13, 14, 15],\n",
              "       [16, 17, 18, 19, 20, 16, 17, 18, 19, 20, 16, 17, 18, 19, 20],\n",
              "       [21, 22, 23, 24, 25, 21, 22, 23, 24, 25, 21, 22, 23, 24, 25]])"
            ]
          },
          "metadata": {},
          "execution_count": 42
        }
      ]
    }
  ]
}
